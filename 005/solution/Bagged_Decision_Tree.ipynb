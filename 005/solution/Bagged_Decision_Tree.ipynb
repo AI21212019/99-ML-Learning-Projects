{
 "cells": [
  {
   "cell_type": "code",
   "execution_count": 1,
   "metadata": {},
   "outputs": [],
   "source": [
    "import pandas as pd\n",
    "from sklearn.model_selection import train_test_split\n",
    "from sklearn.metrics import balanced_accuracy_score\n",
    "from sklearn.ensemble import BaggingClassifier\n",
    "from sklearn.svm import SVC\n",
    "from sklearn.tree import DecisionTreeClassifier\n",
    "from sklearn import metrics\n",
    "from imblearn.ensemble import BalancedBaggingClassifier\n",
    "\n",
    "df = pd.read_csv('breast_cancer_diagnosis.csv')\n",
    "X = df.drop(['diagnosis'], axis = 1)\n",
    "y = df['diagnosis']\n",
    "\n",
    "X_train, X_test, y_train, y_test = train_test_split(X, y, random_state=42)"
   ]
  },
  {
   "cell_type": "code",
   "execution_count": 2,
   "metadata": {},
   "outputs": [
    {
     "name": "stdout",
     "output_type": "stream",
     "text": [
      "Bagged Decision Tree Classifier's accuracy is  0.9239766081871345\n",
      "Balanced Bagged Decision Tree Classifier's accuracy is  0.9343976997578692\n"
     ]
    }
   ],
   "source": [
    "X_train, X_test, y_train, y_test = train_test_split(X, y,test_size = 0.3, random_state=50)\n",
    "\n",
    "b = BaggingClassifier(base_estimator = DecisionTreeClassifier(),random_state = 0)\n",
    "b.fit(X_train,y_train)\n",
    "\n",
    "y_pred = b.predict(X_test)\n",
    "acc = metrics.accuracy_score(y_test,y_pred)\n",
    "print(\"Bagged Decision Tree Classifier's accuracy is \", acc)\n",
    "\n",
    "bb = BalancedBaggingClassifier(base_estimator = DecisionTreeClassifier(),random_state = 0)\n",
    "bb.fit(X_train,y_train)\n",
    "\n",
    "by_pred = bb.predict(X_test)\n",
    "bacc = balanced_accuracy_score(y_test,by_pred)\n",
    "\n",
    "print(\"Balanced Bagged Decision Tree Classifier's accuracy is \", bacc)"
   ]
  },
  {
   "cell_type": "code",
   "execution_count": null,
   "metadata": {},
   "outputs": [],
   "source": []
  }
 ],
 "metadata": {
  "kernelspec": {
   "display_name": "Python 3",
   "language": "python",
   "name": "python3"
  },
  "language_info": {
   "codemirror_mode": {
    "name": "ipython",
    "version": 3
   },
   "file_extension": ".py",
   "mimetype": "text/x-python",
   "name": "python",
   "nbconvert_exporter": "python",
   "pygments_lexer": "ipython3",
   "version": "3.8.2"
  }
 },
 "nbformat": 4,
 "nbformat_minor": 4
}
